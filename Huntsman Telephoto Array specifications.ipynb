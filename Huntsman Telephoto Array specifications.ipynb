{
 "cells": [
  {
   "cell_type": "markdown",
   "metadata": {},
   "source": [
    "#Huntsman Telephoto Array specifications\n",
    "\n",
    "##Introduction\n",
    "\n",
    "The Huntsman Telephoto Array is an astronomical imaging system consisting of 1-10 imaging units attached to a telescope mount.  The concept is closely based on the [Dragonfly Telephoto Array](http://www.dunlap.utoronto.ca/instrumentation/dragonfly/), pictured below.\n",
    "\n",
    "![](http://www.dunlap.utoronto.ca/wp-content/uploads/2013/05/Dragonfly_1080px_Oct-2014.jpg)\n",
    "\n",
    "###Imaging units\n",
    "\n",
    "Each imaging unit comprises a [Canon EF 400mm f/2.8L IS II USM camera lens](http://www.canon.com.au/en-AU/EOS-Professional/Product-Range/Lenses/EF-Super-Telephoto/EF400mm-f28L-IS-II-USM-Lens), an [SBIG STF-8300M ccd camera](https://www.sbig.com/products/cameras/stf-series/stf/stf-8300m/) and an adaptor from [Birger Engineering](birger).  The prototype imaging unit ('the Huntsman Eye') is shown below.  The tripod adaptor bracket is bolted to the main lens body, this bracket could be removed and the bolt holes used for direct attachment to a support structure.\n",
    "\n",
    "![](https://scontent-nrt1-1.xx.fbcdn.net/hphotos-xaf1/t31.0-8/10548205_670322309702850_4884215092166711965_o.jpg)\n",
    "\n",
    "###Telescope mount\n",
    "\n",
    "The Huntsman Telephoto Array will use a [Software Bisque Paramount ME II telescope mount](http://www.bisque.com/sc/pages/ParamountMEII.aspx).  A [Solidworks eDrawing](http://www.bisque.com/sc/media/p/66949.aspx) is available as part of the [mount documentation set](http://www.bisque.com/sc/media/g/pmeiidocs/default.aspx).\n",
    "\n",
    "![](http://www.bisque.com/help/paramountme/me_ii_render_3.jpg)\n",
    "\n",
    "###Support structure\n",
    "\n",
    "The Huntsman Telephoto Array support structure must enable the imaging units to be assembled into an array and attached to the telescope mount.  The Dragonfly Telephoto Array has adopted a modular solution based on tubular structures around each lens unit, as can be seen in the photo below.\n",
    "\n",
    "![](http://news.yale.edu/sites/default/files/imce/stars-two.jpg)\n",
    "\n",
    "### Enclosure\n",
    "\n",
    "The Huntsman Telephoto Array is expected to be housed in an [Astro Dome 4500](http://www.astrodomes.com/adome4500.php), a 4.5 metre diameter telescope dome with a 1.2 metre wide aperture.  A 21 year old example at Mt Kent Observatory is shown below.\n",
    "\n",
    "![](http://drhotdog.smugmug.com/photos/i-PdCsXsv/0/L/i-PdCsXsv-L.jpg)"
   ]
  },
  {
   "cell_type": "markdown",
   "metadata": {},
   "source": [
    "## Science requirements"
   ]
  },
  {
   "cell_type": "markdown",
   "metadata": {},
   "source": [
    "### Spatial sampling\n",
    "\n",
    "Derived from the specifications of the chosen hardware."
   ]
  },
  {
   "cell_type": "code",
   "execution_count": 1,
   "metadata": {
    "collapsed": false
   },
   "outputs": [
    {
     "data": {
      "text/latex": [
       "$2.7845749 \\; \\mathrm{\\frac{{}^{\\prime\\prime}}{pix}}$"
      ],
      "text/plain": [
       "<Quantity 2.784574884335801 arcsec / pix>"
      ]
     },
     "execution_count": 1,
     "metadata": {},
     "output_type": "execute_result"
    }
   ],
   "source": [
    "import math\n",
    "from astropy import units as u\n",
    "\n",
    "pixel_pitch = 5.4 * u.micron / u.pixel # STF-8300M pixel pitch \n",
    "focal_length = 400 * u.millimeter # Canon EF 400 mm f/2.8L IS II USM focal length \n",
    "resolution = (3326, 2504) * u.pixel # STF-8300M resolution in pixels, (x, y)\n",
    "\n",
    "sampling = (pixel_pitch / focal_length).to(u.radian/u.pixel, equivalencies = u.equivalencies.dimensionless_angles())\n",
    "sampling.to(u.arcsec/u.pixel)"
   ]
  },
  {
   "cell_type": "markdown",
   "metadata": {},
   "source": [
    "* **Each imaging unit shall deliver an on-sky spatial sampling of $2.8\\pm 0.1'' /$ pixel**"
   ]
  },
  {
   "cell_type": "markdown",
   "metadata": {},
   "source": [
    "### Field of view\n",
    "\n",
    "Derived from the specifications of the chosen hardware."
   ]
  },
  {
   "cell_type": "code",
   "execution_count": 2,
   "metadata": {
    "collapsed": false
   },
   "outputs": [
    {
     "data": {
      "text/latex": [
       "$[2.5726378,~1.9368265] \\; \\mathrm{{}^{\\circ}}$"
      ],
      "text/plain": [
       "<Quantity [ 2.5726378 , 1.93682653] deg>"
      ]
     },
     "execution_count": 2,
     "metadata": {},
     "output_type": "execute_result"
    }
   ],
   "source": [
    "fov = resolution * sampling\n",
    "fov.to(u.degree)"
   ]
  },
  {
   "cell_type": "markdown",
   "metadata": {},
   "source": [
    "* **Each imaging unit shall deliver an instantaneous field of view of $2.6 \\pm 0.1 \\times 1.9 \\pm 0.1$ degrees** "
   ]
  },
  {
   "cell_type": "markdown",
   "metadata": {},
   "source": [
    "### Exposure time\n",
    "\n",
    "Individual exposure times of 5-30 minutes are anticipated."
   ]
  },
  {
   "cell_type": "code",
   "execution_count": 5,
   "metadata": {
    "collapsed": false
   },
   "outputs": [
    {
     "data": {
      "text/latex": [
       "$[5,~10,~30] \\; \\mathrm{min}$"
      ],
      "text/plain": [
       "<Quantity [  5., 10., 30.] min>"
      ]
     },
     "execution_count": 5,
     "metadata": {},
     "output_type": "execute_result"
    }
   ],
   "source": [
    "exposure_times = ((5, 10, 30) * u.minute)\n",
    "exposure_times"
   ]
  },
  {
   "cell_type": "markdown",
   "metadata": {},
   "source": [
    "* **The system shall meet all requirements with exposure times of up to 30 minutes**"
   ]
  },
  {
   "cell_type": "markdown",
   "metadata": {},
   "source": [
    "### Number of imaging units"
   ]
  },
  {
   "cell_type": "code",
   "execution_count": 7,
   "metadata": {
    "collapsed": false
   },
   "outputs": [
    {
     "data": {
      "text/plain": [
       "(1, 4, 10)"
      ]
     },
     "execution_count": 7,
     "metadata": {},
     "output_type": "execute_result"
    }
   ],
   "source": [
    "n_units = (1, 4, 10)\n",
    "n_units"
   ]
  },
  {
   "cell_type": "markdown",
   "metadata": {},
   "source": [
    "* **The system shall support up to 10 imaging units per telescope mount**"
   ]
  },
  {
   "cell_type": "markdown",
   "metadata": {},
   "source": [
    "###Imaging unit alignment\n",
    "\n",
    "Given the large field of view tight coalignment of individual imaging units is not required, or even particularly desirable."
   ]
  },
  {
   "cell_type": "code",
   "execution_count": 9,
   "metadata": {
    "collapsed": false
   },
   "outputs": [
    {
     "data": {
      "text/latex": [
       "$5 \\; \\mathrm{{}^{\\prime}}$"
      ],
      "text/plain": [
       "<Quantity 5.0 arcmin>"
      ]
     },
     "execution_count": 9,
     "metadata": {},
     "output_type": "execute_result"
    }
   ],
   "source": [
    "coalignment_tolerance = 5 * u.arcminute\n",
    "coalignment_tolerance"
   ]
  },
  {
   "cell_type": "markdown",
   "metadata": {},
   "source": [
    "* **All imaging units should point in the same direction to within a tolerance of 5 arcminutes radius on sky (TBC)**\n",
    "\n",
    "All data will be resampled prior to combination so some relative rotation between imaging units is acceptable."
   ]
  },
  {
   "cell_type": "code",
   "execution_count": 10,
   "metadata": {
    "collapsed": false
   },
   "outputs": [
    {
     "data": {
      "text/latex": [
       "$2.5 \\; \\mathrm{{}^{\\circ}}$"
      ],
      "text/plain": [
       "<Quantity 2.5 deg>"
      ]
     },
     "execution_count": 10,
     "metadata": {},
     "output_type": "execute_result"
    }
   ],
   "source": [
    "north_alignment_tolerance = 2.5 * u.degree\n",
    "north_alignment_tolerance"
   ]
  },
  {
   "cell_type": "markdown",
   "metadata": {},
   "source": [
    "* **All imaging units shall have the camera y axis aligned with the North-South axis to within a tolerance of $\\pm$2.5 degrees (TBC)** "
   ]
  },
  {
   "cell_type": "markdown",
   "metadata": {},
   "source": [
    "###Image quality\n",
    "\n",
    "[Abraham & van Dokkum (2014)](http://arxiv.org/abs/1401.5473) report that imaging units of the design proposed for the Huntsman Telephoto Array are capable of producing a point spread function (PSF) with full width at half maximum (FWHM) of $\\sim1.5''$, as measured by (undersampled) 3rd order polynomial fitting by SExtractor.  When image sensor tilts (PSF degradation $<0.4''$) and imperfect telescope tracking are taken into account average FWHM of $< 2''$ were still achieved across the entire field of view.  The Huntsman Telephoto Array should at least match this."
   ]
  },
  {
   "cell_type": "code",
   "execution_count": 19,
   "metadata": {
    "collapsed": false
   },
   "outputs": [
    {
     "data": {
      "text/latex": [
       "$2 \\; \\mathrm{{}^{\\prime\\prime}}$"
      ],
      "text/plain": [
       "<Quantity 2.0 arcsec>"
      ]
     },
     "execution_count": 19,
     "metadata": {},
     "output_type": "execute_result"
    }
   ],
   "source": [
    "central_fwhm = 1.5 * u.arcsecond\n",
    "tilt_fwhm_degradation = 0.4 * u.arcsecond\n",
    "max_fwhm = 2 * u.arcsecond\n",
    "max_fwhm"
   ]
  },
  {
   "cell_type": "markdown",
   "metadata": {},
   "source": [
    "* **The system shall deliver a PSF with average FWHM $< 2''$ over the full field of view, as measured using a 3rd order polynomial fit performed wth the SExtrator software**"
   ]
  },
  {
   "cell_type": "markdown",
   "metadata": {},
   "source": [
    "###Filters\n",
    "\n",
    "* **Each imaging unit shall be equipped with an optical bandpass filter.  For the primary science project this shall be either an SDSS-type g or r band filter**"
   ]
  },
  {
   "cell_type": "markdown",
   "metadata": {},
   "source": [
    "### Sky coverage\n",
    "\n",
    "The system should allow the observation of targets at any position on the sky that corresponds to a reasonable airmass, i.e. $<2$."
   ]
  },
  {
   "cell_type": "code",
   "execution_count": 31,
   "metadata": {
    "collapsed": false
   },
   "outputs": [
    {
     "data": {
      "text/latex": [
       "$60 \\; \\mathrm{{}^{\\circ}}$"
      ],
      "text/plain": [
       "<Quantity 60.0 deg>"
      ]
     },
     "execution_count": 31,
     "metadata": {},
     "output_type": "execute_result"
    }
   ],
   "source": [
    "max_zenith_distance = 60 * u.degree\n",
    "max_zenith_distance"
   ]
  },
  {
   "cell_type": "markdown",
   "metadata": {},
   "source": [
    "* **The system shall satisfy all functional requirements (e.g. image quality, alignment) while observing any sky position with a zenith distance less than 60 degrees**\n",
    "* **The system is not required to meet functional requirements if observing a sky position with a zenith distance of greater than 60 degrees**"
   ]
  },
  {
   "cell_type": "markdown",
   "metadata": {},
   "source": [
    "## Mechanical requirements"
   ]
  },
  {
   "cell_type": "markdown",
   "metadata": {},
   "source": [
    "### Support structure(s)\n",
    "\n",
    "* **The mechanical support structure(s) shall allow the number of imaging units specified in the science requirements to be attached to the telescope mount**"
   ]
  },
  {
   "cell_type": "code",
   "execution_count": 34,
   "metadata": {
    "collapsed": false
   },
   "outputs": [
    {
     "data": {
      "text/plain": [
       "(1, 4, 10)"
      ]
     },
     "execution_count": 34,
     "metadata": {},
     "output_type": "execute_result"
    }
   ],
   "source": [
    "n_units"
   ]
  },
  {
   "cell_type": "markdown",
   "metadata": {},
   "source": [
    "### Imaging unit interface\n",
    "\n",
    "* **The support structure(s) shall attach to the imaging units via the Canon EF 400mm f/2.8L IS II USM camera lens tripod mount bolt hole pattern and/or clamping of the camera lens body**"
   ]
  },
  {
   "cell_type": "markdown",
   "metadata": {
    "collapsed": true
   },
   "source": [
    "### Telescope mount interface\n",
    "\n",
    "* **The support structure(s) shall attach to the telescope mount via the standard interface plate, the Paramount ME II Versa-Plate (drawing [here](http://www.bisque.com/sc/media/p/75171.aspx))**"
   ]
  },
  {
   "cell_type": "markdown",
   "metadata": {},
   "source": [
    "### Alignment\n",
    "\n",
    "* **The support structure(s) shall ensure that the imaging units are aligned to within the tolerances specified in the science requirements**"
   ]
  },
  {
   "cell_type": "code",
   "execution_count": 16,
   "metadata": {
    "collapsed": false
   },
   "outputs": [
    {
     "data": {
      "text/latex": [
       "$5 \\; \\mathrm{{}^{\\prime}}$"
      ],
      "text/plain": [
       "<Quantity 5.0 arcmin>"
      ]
     },
     "execution_count": 16,
     "metadata": {},
     "output_type": "execute_result"
    }
   ],
   "source": [
    "coalignment_tolerance"
   ]
  },
  {
   "cell_type": "code",
   "execution_count": 17,
   "metadata": {
    "collapsed": false
   },
   "outputs": [
    {
     "data": {
      "text/latex": [
       "$2.5 \\; \\mathrm{{}^{\\circ}}$"
      ],
      "text/plain": [
       "<Quantity 2.5 deg>"
      ]
     },
     "execution_count": 17,
     "metadata": {},
     "output_type": "execute_result"
    }
   ],
   "source": [
    "north_alignment_tolerance"
   ]
  },
  {
   "cell_type": "markdown",
   "metadata": {},
   "source": [
    "### Flexure\n",
    "\n",
    "The support structure(s) must be rigid enough that flexure will not prevent the system from achieving the image quality specification from the science requirements.  This requires the pointing of all imaging units to remain constant relative to either the telescope mount axes (if not autoguiding) or the autoguider pointing (if using autoguiding) to within a set tolerance for the duration of any individual exposure.\n",
    "\n",
    "The tolerance can be calculated from the delivered image quality specification and expected imaging unit image quality."
   ]
  },
  {
   "cell_type": "code",
   "execution_count": 23,
   "metadata": {
    "collapsed": false
   },
   "outputs": [
    {
     "data": {
      "text/latex": [
       "$0.26520065 \\; \\mathrm{{}^{\\prime\\prime}}$"
      ],
      "text/plain": [
       "<Quantity 0.26520064713974023 arcsec>"
      ]
     },
     "execution_count": 23,
     "metadata": {},
     "output_type": "execute_result"
    }
   ],
   "source": [
    "fwhm_to_rms = (2 * (2 * math.log(2))**0.5)**-1\n",
    "max_flexure_rms = fwhm_to_rms * (max_fwhm**2 - (central_fwhm + tilt_fwhm_degradation)**2)**0.5\n",
    "max_flexure_rms"
   ]
  },
  {
   "cell_type": "markdown",
   "metadata": {},
   "source": [
    "A given exposure time corresponds to an angle of rotation about the telescope mount hour angle axis."
   ]
  },
  {
   "cell_type": "code",
   "execution_count": 30,
   "metadata": {
    "collapsed": false
   },
   "outputs": [
    {
     "data": {
      "text/latex": [
       "$[1.25,~2.5,~7.5] \\; \\mathrm{{}^{\\circ}}$"
      ],
      "text/plain": [
       "<Quantity [ 1.25, 2.5 , 7.5 ] deg>"
      ]
     },
     "execution_count": 30,
     "metadata": {},
     "output_type": "execute_result"
    }
   ],
   "source": [
    "ha_angles = (exposure_times.to(u.hour) * (u.hourangle / u.hour)).to(u.degree)\n",
    "ha_angles"
   ]
  },
  {
   "cell_type": "markdown",
   "metadata": {
    "collapsed": true
   },
   "source": [
    "* **The support structure(s) shall ensure that the pointing of all imaging units shall remain fixed relative to the telescope mount axes to within 0.27 arcseconds rms while the hour angle axis rotates through any 7.5 degree angle, for any position of the declination axis within the sky coverage requirement's zenith distance range**"
   ]
  },
  {
   "cell_type": "code",
   "execution_count": 33,
   "metadata": {
    "collapsed": false
   },
   "outputs": [
    {
     "data": {
      "text/latex": [
       "$60 \\; \\mathrm{{}^{\\circ}}$"
      ],
      "text/plain": [
       "<Quantity 60.0 deg>"
      ]
     },
     "execution_count": 33,
     "metadata": {},
     "output_type": "execute_result"
    }
   ],
   "source": [
    "max_zenith_distance"
   ]
  },
  {
   "cell_type": "markdown",
   "metadata": {},
   "source": [
    "###  Mass\n",
    "\n",
    "The telescope mount is rated for a maximum payload (not including counterweights) of 109 kg, therefore the total mass of imaging units plus support structure(s) should not exceed this value.  The mass of the lens is 4.1 kg (source [here](http://www.the-digital-picture.com/Reviews/Lens-Specifications.aspx?Lens=741&LensComp=0&Units=M)), the mass of the CCD camera is 0.8 kg (source [here](https://www.sbig.com/products/cameras/stf-series/stf/stf-8300m/)) and the mass of the adaptor is estimated to be no more than 0.2 kg."
   ]
  },
  {
   "cell_type": "code",
   "execution_count": 40,
   "metadata": {
    "collapsed": false
   },
   "outputs": [
    {
     "data": {
      "text/latex": [
       "$58 \\; \\mathrm{kg}$"
      ],
      "text/plain": [
       "<Quantity 58.0 kg>"
      ]
     },
     "execution_count": 40,
     "metadata": {},
     "output_type": "execute_result"
    }
   ],
   "source": [
    "lens_mass = 4.1 * u.kilogram\n",
    "camera_mass = 0.8 * u.kilogram\n",
    "adaptor_mass = 0.2 * u.kilogram\n",
    "imaging_unit_mass = lens_mass + camera_mass + adaptor_mass\n",
    "\n",
    "max_payload_mass = 109 * u.kilogram\n",
    "\n",
    "max_struture_mass = max_payload_mass - max(n_units) * imaging_unit_mass\n",
    "max_struture_mass"
   ]
  },
  {
   "cell_type": "markdown",
   "metadata": {},
   "source": [
    "* **The total mass of all support structure(s) shall be less than 58 kg**"
   ]
  },
  {
   "cell_type": "markdown",
   "metadata": {},
   "source": [
    "### Footprint\n",
    "\n",
    "The support structure(s) needs to position the imaging units such that their combined beam footprint will pass through the dome aperture without vignetting.  Translating this requirement into an allowed space envelope for the imaging units is not straightforward as the geometry is complicated: the axes of the telescope mount will be offset from each other, from the geometric centre of the dome and from the centre of the imaging unit array."
   ]
  },
  {
   "cell_type": "markdown",
   "metadata": {},
   "source": [
    "## Environmental\n",
    "\n",
    "The system is intended to be placed at a moderate altitude site in mainland Australia.  The expected ranges of environmental conditions during operation and storage are as follows."
   ]
  },
  {
   "cell_type": "markdown",
   "metadata": {},
   "source": []
  }
 ],
 "metadata": {
  "kernelspec": {
   "display_name": "Python 3",
   "language": "python",
   "name": "python3"
  },
  "language_info": {
   "codemirror_mode": {
    "name": "ipython",
    "version": 3
   },
   "file_extension": ".py",
   "mimetype": "text/x-python",
   "name": "python",
   "nbconvert_exporter": "python",
   "pygments_lexer": "ipython3",
   "version": "3.4.0"
  }
 },
 "nbformat": 4,
 "nbformat_minor": 0
}
