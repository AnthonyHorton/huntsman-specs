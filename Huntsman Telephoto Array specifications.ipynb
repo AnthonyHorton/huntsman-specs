{
 "cells": [
  {
   "cell_type": "markdown",
   "metadata": {},
   "source": [
    "#Huntsman Telephoto Array specifications\n",
    "\n",
    "##Introduction\n",
    "\n",
    "The Huntsman Telephoto Array is an astronomical imaging system consisting of 1-10 imaging units attached to a telescope mount.  The concept is closely based on the [Dragonfly Telephoto Array](http://www.dunlap.utoronto.ca/instrumentation/dragonfly/), pictured below.\n",
    "\n",
    "![](http://www.dunlap.utoronto.ca/wp-content/uploads/2013/05/Dragonfly_1080px_Oct-2014.jpg)\n",
    "\n",
    "###Imaging units\n",
    "\n",
    "Each imaging unit comprises a [Canon EF 400mm f/2.8L IS II USM camera lens](http://www.canon.com.au/en-AU/EOS-Professional/Product-Range/Lenses/EF-Super-Telephoto/EF400mm-f28L-IS-II-USM-Lens), an [SBIG STF-8300M ccd camera](https://www.sbig.com/products/cameras/stf-series/stf/stf-8300m/) and an adaptor from [Birger Engineering](birger).  The prototype imaging unit ('the Huntsman Eye') is shown below.\n",
    "\n",
    "![](https://scontent-nrt1-1.xx.fbcdn.net/hphotos-xaf1/t31.0-8/10548205_670322309702850_4884215092166711965_o.jpg)\n",
    "\n",
    "###Telescope mount\n",
    "\n",
    "The Huntsman Telephoto Array will use a [Software Bisque Paramount ME II telescope mount](http://www.bisque.com/sc/pages/ParamountMEII.aspx).  A [Solidworks eDrawing](http://www.bisque.com/sc/media/p/66949.aspx) is available as part of the [mount documentation set](http://www.bisque.com/sc/media/g/pmeiidocs/default.aspx).\n",
    "\n",
    "![](http://www.bisque.com/help/paramountme/me_ii_render_3.jpg)\n",
    "\n",
    "###Support structure\n",
    "\n",
    "The Huntsman Telephoto Array support structure must enable the imaging units to be assembled into an array and attached to the telescope mount.  The Dragonfly Telephoto Array has adopted a modular solution based on tubular structures around each lens unit, as can be seen in the photo below.\n",
    "\n",
    "![](http://news.yale.edu/sites/default/files/imce/stars-two.jpg)"
   ]
  },
  {
   "cell_type": "markdown",
   "metadata": {},
   "source": [
    "## Science requirements"
   ]
  },
  {
   "cell_type": "markdown",
   "metadata": {},
   "source": [
    "### Spatial sampling"
   ]
  },
  {
   "cell_type": "code",
   "execution_count": 1,
   "metadata": {
    "collapsed": false
   },
   "outputs": [
    {
     "data": {
      "text/latex": [
       "$2.7845749 \\; \\mathrm{\\frac{{}^{\\prime\\prime}}{pix}}$"
      ],
      "text/plain": [
       "<Quantity 2.784574884335801 arcsec / pix>"
      ]
     },
     "execution_count": 1,
     "metadata": {},
     "output_type": "execute_result"
    }
   ],
   "source": [
    "import math\n",
    "from astropy import units as u\n",
    "\n",
    "pixel_pitch = 5.4 * u.micron / u.pixel # STF-8300M pixel pitch \n",
    "focal_length = 400 * u.millimeter # Canon EF 400 mm f/2.8L IS II USM focal length \n",
    "resolution = (3326, 2504) * u.pixel # STF-8300M resolution in pixels, (x, y)\n",
    "\n",
    "sampling = (pixel_pitch / focal_length).to(u.radian/u.pixel, equivalencies = u.equivalencies.dimensionless_angles())\n",
    "sampling.to(u.arcsec/u.pixel)"
   ]
  },
  {
   "cell_type": "markdown",
   "metadata": {},
   "source": [
    "### Field of view"
   ]
  },
  {
   "cell_type": "code",
   "execution_count": 2,
   "metadata": {
    "collapsed": false
   },
   "outputs": [
    {
     "data": {
      "text/latex": [
       "$[2.5726378,~1.9368265] \\; \\mathrm{{}^{\\circ}}$"
      ],
      "text/plain": [
       "<Quantity [ 2.5726378 , 1.93682653] deg>"
      ]
     },
     "execution_count": 2,
     "metadata": {},
     "output_type": "execute_result"
    }
   ],
   "source": [
    "fov = resolution * sampling\n",
    "fov.to(u.degree)"
   ]
  },
  {
   "cell_type": "markdown",
   "metadata": {},
   "source": [
    "### Exposure time\n",
    "\n",
    "Individual exposure times of 5-30 minutes are anticipated."
   ]
  },
  {
   "cell_type": "markdown",
   "metadata": {},
   "source": [
    "###Imaging unit alignment\n",
    "\n",
    "* All imaging units should point in the same direcion to within a tolerance of 10 arcminutes diameter on sky (TBC)\n",
    "* All imaging units shall have the camera y axis aligned with the North-South axis to within a tolerance of $\\pm$2.5 degrees (TBC) "
   ]
  },
  {
   "cell_type": "markdown",
   "metadata": {},
   "source": [
    "###Image quality"
   ]
  },
  {
   "cell_type": "markdown",
   "metadata": {},
   "source": [
    "## Mechanical requirements"
   ]
  },
  {
   "cell_type": "code",
   "execution_count": null,
   "metadata": {
    "collapsed": true
   },
   "outputs": [],
   "source": []
  },
  {
   "cell_type": "code",
   "execution_count": null,
   "metadata": {
    "collapsed": true
   },
   "outputs": [],
   "source": []
  }
 ],
 "metadata": {
  "kernelspec": {
   "display_name": "Python 3",
   "language": "python",
   "name": "python3"
  },
  "language_info": {
   "codemirror_mode": {
    "name": "ipython",
    "version": 3
   },
   "file_extension": ".py",
   "mimetype": "text/x-python",
   "name": "python",
   "nbconvert_exporter": "python",
   "pygments_lexer": "ipython3",
   "version": "3.4.0"
  }
 },
 "nbformat": 4,
 "nbformat_minor": 0
}
